{
 "cells": [
  {
   "cell_type": "code",
   "execution_count": 3,
   "metadata": {
    "collapsed": true
   },
   "outputs": [],
   "source": [
    "import pandas as pd"
   ]
  },
  {
   "cell_type": "code",
   "execution_count": 4,
   "metadata": {
    "collapsed": true
   },
   "outputs": [],
   "source": [
    "url = 'https://archive.ics.uci.edu/ml/machine-learning-databases/blood-transfusion/transfusion.data'"
   ]
  },
  {
   "cell_type": "code",
   "execution_count": 5,
   "metadata": {},
   "outputs": [],
   "source": [
    "df = pd.read_csv(url)"
   ]
  },
  {
   "cell_type": "code",
   "execution_count": 6,
   "metadata": {
    "collapsed": true
   },
   "outputs": [],
   "source": [
    "from sklearn.model_selection import train_test_split"
   ]
  },
  {
   "cell_type": "code",
   "execution_count": 9,
   "metadata": {
    "collapsed": true
   },
   "outputs": [],
   "source": [
    "y = df.iloc[:,-1]\n",
    "X = df.iloc[:, :-1]"
   ]
  },
  {
   "cell_type": "code",
   "execution_count": 10,
   "metadata": {},
   "outputs": [],
   "source": [
    "x_train, x_test, y_train, y_test = train_test_split(X,y)"
   ]
  },
  {
   "cell_type": "code",
   "execution_count": 11,
   "metadata": {
    "collapsed": true
   },
   "outputs": [],
   "source": [
    "from sklearn.linear_model import LogisticRegression"
   ]
  },
  {
   "cell_type": "code",
   "execution_count": 12,
   "metadata": {
    "collapsed": true
   },
   "outputs": [],
   "source": [
    "lr = LogisticRegression()"
   ]
  },
  {
   "cell_type": "code",
   "execution_count": 13,
   "metadata": {},
   "outputs": [
    {
     "data": {
      "text/plain": [
       "LogisticRegression(C=1.0, class_weight=None, dual=False, fit_intercept=True,\n",
       "          intercept_scaling=1, max_iter=100, multi_class='ovr', n_jobs=1,\n",
       "          penalty='l2', random_state=None, solver='liblinear', tol=0.0001,\n",
       "          verbose=0, warm_start=False)"
      ]
     },
     "execution_count": 13,
     "metadata": {},
     "output_type": "execute_result"
    }
   ],
   "source": [
    "lr.fit(x_train, y_train)"
   ]
  },
  {
   "cell_type": "code",
   "execution_count": 14,
   "metadata": {
    "collapsed": true
   },
   "outputs": [],
   "source": [
    "y_pred = lr.predict(x_test)"
   ]
  },
  {
   "cell_type": "code",
   "execution_count": 15,
   "metadata": {},
   "outputs": [
    {
     "data": {
      "text/plain": [
       "0.7807486631016043"
      ]
     },
     "execution_count": 15,
     "metadata": {},
     "output_type": "execute_result"
    }
   ],
   "source": [
    "lr.score(x_test, y_test)"
   ]
  },
  {
   "cell_type": "code",
   "execution_count": 16,
   "metadata": {
    "collapsed": true
   },
   "outputs": [],
   "source": [
    "from sklearn.metrics import confusion_matrix, classification_report"
   ]
  },
  {
   "cell_type": "code",
   "execution_count": 17,
   "metadata": {},
   "outputs": [
    {
     "data": {
      "text/plain": [
       "array([[140,   3],\n",
       "       [ 38,   6]])"
      ]
     },
     "execution_count": 17,
     "metadata": {},
     "output_type": "execute_result"
    }
   ],
   "source": [
    "confusion_matrix(y_test, y_pred)"
   ]
  },
  {
   "cell_type": "code",
   "execution_count": 18,
   "metadata": {},
   "outputs": [
    {
     "data": {
      "text/plain": [
       "'             precision    recall  f1-score   support\\n\\n          0       0.79      0.98      0.87       143\\n          1       0.67      0.14      0.23        44\\n\\navg / total       0.76      0.78      0.72       187\\n'"
      ]
     },
     "execution_count": 18,
     "metadata": {},
     "output_type": "execute_result"
    }
   ],
   "source": [
    "classification_report(y_test, y_pred)"
   ]
  },
  {
   "cell_type": "code",
   "execution_count": 19,
   "metadata": {},
   "outputs": [
    {
     "name": "stdout",
     "output_type": "stream",
     "text": [
      "             precision    recall  f1-score   support\n",
      "\n",
      "          0       0.79      0.98      0.87       143\n",
      "          1       0.67      0.14      0.23        44\n",
      "\n",
      "avg / total       0.76      0.78      0.72       187\n",
      "\n"
     ]
    }
   ],
   "source": [
    "print(classification_report(y_test, y_pred))"
   ]
  },
  {
   "cell_type": "code",
   "execution_count": 20,
   "metadata": {
    "collapsed": true
   },
   "outputs": [],
   "source": [
    "from sklearn.metrics import precision_score, recall_score, accuracy_score"
   ]
  },
  {
   "cell_type": "code",
   "execution_count": 21,
   "metadata": {},
   "outputs": [
    {
     "data": {
      "text/plain": [
       "0.6666666666666666"
      ]
     },
     "execution_count": 21,
     "metadata": {},
     "output_type": "execute_result"
    }
   ],
   "source": [
    "precision_score(y_test, y_pred)"
   ]
  },
  {
   "cell_type": "code",
   "execution_count": 22,
   "metadata": {},
   "outputs": [
    {
     "data": {
      "text/plain": [
       "0.7807486631016043"
      ]
     },
     "execution_count": 22,
     "metadata": {},
     "output_type": "execute_result"
    }
   ],
   "source": [
    "accuracy_score(y_test, y_pred)"
   ]
  },
  {
   "cell_type": "code",
   "execution_count": 23,
   "metadata": {},
   "outputs": [
    {
     "data": {
      "text/plain": [
       "array([0, 0, 0, 0, 0, 0, 0, 0, 0, 0, 0, 0, 0, 0, 1, 0, 0, 0, 0, 1, 0, 0,\n",
       "       0, 0, 0, 0, 1, 0, 0, 0, 0, 1, 0, 0, 0, 0, 0, 0, 0, 0, 0, 0, 0, 0,\n",
       "       0, 0, 0, 0, 0, 0, 0, 0, 0, 0, 0, 0, 0, 0, 0, 0, 0, 0, 0, 1, 0, 0,\n",
       "       0, 0, 0, 0, 0, 0, 0, 0, 0, 0, 0, 0, 0, 0, 0, 0, 0, 0, 0, 0, 0, 0,\n",
       "       0, 0, 0, 0, 0, 0, 0, 0, 0, 0, 0, 1, 0, 0, 0, 0, 0, 0, 1, 1, 0, 1,\n",
       "       0, 0, 0, 0, 0, 0, 0, 0, 0, 0, 0, 0, 0, 0, 0, 0, 0, 0, 0, 0, 0, 0,\n",
       "       0, 0, 0, 0, 0, 0, 0, 0, 0, 0, 0, 0, 0, 0, 0, 0, 0, 0, 0, 0, 0, 0,\n",
       "       0, 0, 0, 0, 0, 0, 0, 0, 0, 0, 0, 0, 0, 0, 0, 0, 0, 0, 0, 0, 0, 0,\n",
       "       0, 0, 0, 0, 0, 0, 0, 0, 0, 0, 0])"
      ]
     },
     "execution_count": 23,
     "metadata": {},
     "output_type": "execute_result"
    }
   ],
   "source": [
    "y_pred"
   ]
  },
  {
   "cell_type": "code",
   "execution_count": 34,
   "metadata": {},
   "outputs": [],
   "source": [
    "m = lr.predict_proba(x_test)"
   ]
  },
  {
   "cell_type": "code",
   "execution_count": 38,
   "metadata": {},
   "outputs": [
    {
     "data": {
      "text/plain": [
       "numpy.ndarray"
      ]
     },
     "execution_count": 38,
     "metadata": {},
     "output_type": "execute_result"
    }
   ],
   "source": [
    "type(m)"
   ]
  },
  {
   "cell_type": "code",
   "execution_count": 49,
   "metadata": {},
   "outputs": [
    {
     "data": {
      "text/plain": [
       "array([[0.88859558, 0.11140442],\n",
       "       [0.59883408, 0.40116592],\n",
       "       [0.84397114, 0.15602886],\n",
       "       [0.63451793, 0.36548207],\n",
       "       [0.81020247, 0.18979753],\n",
       "       [0.8881692 , 0.1118308 ],\n",
       "       [0.94403537, 0.05596463],\n",
       "       [0.89106425, 0.10893575],\n",
       "       [0.74452768, 0.25547232],\n",
       "       [0.86992019, 0.13007981],\n",
       "       [0.80295046, 0.19704954],\n",
       "       [0.95441402, 0.04558598],\n",
       "       [0.6677158 , 0.3322842 ],\n",
       "       [0.58138581, 0.41861419],\n",
       "       [0.01994969, 0.98005031],\n",
       "       [0.76717456, 0.23282544],\n",
       "       [0.77153524, 0.22846476],\n",
       "       [0.6677158 , 0.3322842 ],\n",
       "       [0.96253803, 0.03746197],\n",
       "       [0.14827867, 0.85172133],\n",
       "       [0.50885142, 0.49114858],\n",
       "       [0.70470283, 0.29529717],\n",
       "       [0.86143945, 0.13856055],\n",
       "       [0.60161329, 0.39838671],\n",
       "       [0.9131086 , 0.0868914 ],\n",
       "       [0.96501479, 0.03498521],\n",
       "       [0.37772582, 0.62227418],\n",
       "       [0.51793873, 0.48206127],\n",
       "       [0.91094377, 0.08905623],\n",
       "       [0.63944445, 0.36055555],\n",
       "       [0.55358828, 0.44641172],\n",
       "       [0.43029244, 0.56970756],\n",
       "       [0.91690345, 0.08309655],\n",
       "       [0.61711783, 0.38288217],\n",
       "       [0.84062614, 0.15937386],\n",
       "       [0.57471403, 0.42528597],\n",
       "       [0.69579832, 0.30420168],\n",
       "       [0.5700307 , 0.4299693 ],\n",
       "       [0.88856296, 0.11143704],\n",
       "       [0.95441402, 0.04558598],\n",
       "       [0.60399795, 0.39600205],\n",
       "       [0.95324025, 0.04675975],\n",
       "       [0.55586269, 0.44413731],\n",
       "       [0.78226063, 0.21773937],\n",
       "       [0.8191183 , 0.1808817 ],\n",
       "       [0.99633112, 0.00366888],\n",
       "       [0.97828112, 0.02171888],\n",
       "       [0.9151588 , 0.0848412 ],\n",
       "       [0.71433229, 0.28566771],\n",
       "       [0.6677158 , 0.3322842 ],\n",
       "       [0.90055095, 0.09944905],\n",
       "       [0.61201515, 0.38798485],\n",
       "       [0.78168736, 0.21831264],\n",
       "       [0.58240936, 0.41759064],\n",
       "       [0.67012177, 0.32987823],\n",
       "       [0.60399795, 0.39600205],\n",
       "       [0.66817673, 0.33182327],\n",
       "       [0.98051259, 0.01948741],\n",
       "       [0.93223495, 0.06776505],\n",
       "       [0.99305354, 0.00694646],\n",
       "       [0.97602897, 0.02397103],\n",
       "       [0.99543664, 0.00456336],\n",
       "       [0.89265784, 0.10734216],\n",
       "       [0.16251337, 0.83748663],\n",
       "       [0.75889946, 0.24110054],\n",
       "       [0.88322924, 0.11677076],\n",
       "       [0.50574539, 0.49425461],\n",
       "       [0.95441402, 0.04558598],\n",
       "       [0.97169119, 0.02830881],\n",
       "       [0.72672676, 0.27327324],\n",
       "       [0.62753354, 0.37246646],\n",
       "       [0.71612174, 0.28387826],\n",
       "       [0.97121822, 0.02878178],\n",
       "       [0.88859558, 0.11140442],\n",
       "       [0.8648936 , 0.1351064 ],\n",
       "       [0.70933308, 0.29066692],\n",
       "       [0.91191285, 0.08808715],\n",
       "       [0.96479882, 0.03520118],\n",
       "       [0.82317029, 0.17682971],\n",
       "       [0.96501479, 0.03498521],\n",
       "       [0.72784271, 0.27215729],\n",
       "       [0.88132617, 0.11867383],\n",
       "       [0.62753354, 0.37246646],\n",
       "       [0.77572931, 0.22427069],\n",
       "       [0.61711783, 0.38288217],\n",
       "       [0.80528703, 0.19471297],\n",
       "       [0.59480921, 0.40519079],\n",
       "       [0.88859558, 0.11140442],\n",
       "       [0.77688529, 0.22311471],\n",
       "       [0.72185999, 0.27814001],\n",
       "       [0.9131086 , 0.0868914 ],\n",
       "       [0.97193186, 0.02806814],\n",
       "       [0.9602056 , 0.0397944 ],\n",
       "       [0.84145962, 0.15854038],\n",
       "       [0.67153018, 0.32846982],\n",
       "       [0.86705456, 0.13294544],\n",
       "       [0.89474123, 0.10525877],\n",
       "       [0.71443741, 0.28556259],\n",
       "       [0.88859558, 0.11140442],\n",
       "       [0.49617853, 0.50382147],\n",
       "       [0.95948079, 0.04051921],\n",
       "       [0.60399795, 0.39600205],\n",
       "       [0.96501479, 0.03498521],\n",
       "       [0.57782887, 0.42217113],\n",
       "       [0.60399795, 0.39600205],\n",
       "       [0.76145597, 0.23854403],\n",
       "       [0.26559131, 0.73440869],\n",
       "       [0.43385174, 0.56614826],\n",
       "       [0.89249587, 0.10750413],\n",
       "       [0.34178809, 0.65821191],\n",
       "       [0.87603801, 0.12396199],\n",
       "       [0.85486222, 0.14513778],\n",
       "       [0.89807111, 0.10192889],\n",
       "       [0.79648863, 0.20351137],\n",
       "       [0.60399795, 0.39600205],\n",
       "       [0.90356974, 0.09643026],\n",
       "       [0.82223997, 0.17776003],\n",
       "       [0.88859558, 0.11140442],\n",
       "       [0.811246  , 0.188754  ],\n",
       "       [0.6677158 , 0.3322842 ],\n",
       "       [0.56168605, 0.43831395],\n",
       "       [0.98036206, 0.01963794],\n",
       "       [0.78592316, 0.21407684],\n",
       "       [0.54173116, 0.45826884],\n",
       "       [0.88859558, 0.11140442],\n",
       "       [0.86992019, 0.13007981],\n",
       "       [0.96501479, 0.03498521],\n",
       "       [0.53120482, 0.46879518],\n",
       "       [0.95441402, 0.04558598],\n",
       "       [0.51527216, 0.48472784],\n",
       "       [0.75796302, 0.24203698],\n",
       "       [0.65971196, 0.34028804],\n",
       "       [0.84062614, 0.15937386],\n",
       "       [0.87305739, 0.12694261],\n",
       "       [0.76686206, 0.23313794],\n",
       "       [0.54541158, 0.45458842],\n",
       "       [0.54805777, 0.45194223],\n",
       "       [0.84062614, 0.15937386],\n",
       "       [0.63006926, 0.36993074],\n",
       "       [0.6677158 , 0.3322842 ],\n",
       "       [0.79005961, 0.20994039],\n",
       "       [0.86992019, 0.13007981],\n",
       "       [0.74245583, 0.25754417],\n",
       "       [0.9945502 , 0.0054498 ],\n",
       "       [0.77658202, 0.22341798],\n",
       "       [0.6677158 , 0.3322842 ],\n",
       "       [0.85551083, 0.14448917],\n",
       "       [0.95441402, 0.04558598],\n",
       "       [0.85461572, 0.14538428],\n",
       "       [0.6677158 , 0.3322842 ],\n",
       "       [0.95829833, 0.04170167],\n",
       "       [0.60399795, 0.39600205],\n",
       "       [0.92147498, 0.07852502],\n",
       "       [0.6543896 , 0.3456104 ],\n",
       "       [0.88039791, 0.11960209],\n",
       "       [0.65781103, 0.34218897],\n",
       "       [0.9753749 , 0.0246251 ],\n",
       "       [0.9131086 , 0.0868914 ],\n",
       "       [0.86379215, 0.13620785],\n",
       "       [0.72545827, 0.27454173],\n",
       "       [0.78201013, 0.21798987],\n",
       "       [0.62660501, 0.37339499],\n",
       "       [0.78436986, 0.21563014],\n",
       "       [0.92753501, 0.07246499],\n",
       "       [0.82788496, 0.17211504],\n",
       "       [0.60399795, 0.39600205],\n",
       "       [0.89586957, 0.10413043],\n",
       "       [0.94441574, 0.05558426],\n",
       "       [0.73342059, 0.26657941],\n",
       "       [0.70254475, 0.29745525],\n",
       "       [0.76777462, 0.23222538],\n",
       "       [0.95361573, 0.04638427],\n",
       "       [0.96005004, 0.03994996],\n",
       "       [0.94608614, 0.05391386],\n",
       "       [0.67012177, 0.32987823],\n",
       "       [0.95441402, 0.04558598],\n",
       "       [0.8829807 , 0.1170193 ],\n",
       "       [0.57782887, 0.42217113],\n",
       "       [0.57782887, 0.42217113],\n",
       "       [0.93346578, 0.06653422],\n",
       "       [0.88859558, 0.11140442],\n",
       "       [0.52581376, 0.47418624],\n",
       "       [0.91446689, 0.08553311],\n",
       "       [0.9131086 , 0.0868914 ],\n",
       "       [0.6677158 , 0.3322842 ],\n",
       "       [0.809897  , 0.190103  ],\n",
       "       [0.80826978, 0.19173022]])"
      ]
     },
     "execution_count": 49,
     "metadata": {},
     "output_type": "execute_result"
    }
   ],
   "source": [
    "m"
   ]
  },
  {
   "cell_type": "code",
   "execution_count": 41,
   "metadata": {},
   "outputs": [
    {
     "data": {
      "text/plain": [
       "0.11140442405857055"
      ]
     },
     "execution_count": 41,
     "metadata": {},
     "output_type": "execute_result"
    }
   ],
   "source": [
    "m[0,1]"
   ]
  },
  {
   "cell_type": "code",
   "execution_count": 44,
   "metadata": {},
   "outputs": [],
   "source": [
    "prob = m[:,1]"
   ]
  },
  {
   "cell_type": "code",
   "execution_count": 46,
   "metadata": {},
   "outputs": [
    {
     "name": "stderr",
     "output_type": "stream",
     "text": [
      "/Users/1003849/anaconda/lib/python3.6/site-packages/ipykernel_launcher.py:1: SettingWithCopyWarning: \n",
      "A value is trying to be set on a copy of a slice from a DataFrame.\n",
      "Try using .loc[row_indexer,col_indexer] = value instead\n",
      "\n",
      "See the caveats in the documentation: http://pandas.pydata.org/pandas-docs/stable/indexing.html#indexing-view-versus-copy\n",
      "  \"\"\"Entry point for launching an IPython kernel.\n"
     ]
    }
   ],
   "source": [
    "x_test['prob'] = prob"
   ]
  },
  {
   "cell_type": "code",
   "execution_count": 48,
   "metadata": {},
   "outputs": [
    {
     "data": {
      "text/plain": [
       "array([0.11140442, 0.40116592, 0.15602886, 0.36548207, 0.18979753,\n",
       "       0.1118308 , 0.05596463, 0.10893575, 0.25547232, 0.13007981,\n",
       "       0.19704954, 0.04558598, 0.3322842 , 0.41861419, 0.98005031,\n",
       "       0.23282544, 0.22846476, 0.3322842 , 0.03746197, 0.85172133,\n",
       "       0.49114858, 0.29529717, 0.13856055, 0.39838671, 0.0868914 ,\n",
       "       0.03498521, 0.62227418, 0.48206127, 0.08905623, 0.36055555,\n",
       "       0.44641172, 0.56970756, 0.08309655, 0.38288217, 0.15937386,\n",
       "       0.42528597, 0.30420168, 0.4299693 , 0.11143704, 0.04558598,\n",
       "       0.39600205, 0.04675975, 0.44413731, 0.21773937, 0.1808817 ,\n",
       "       0.00366888, 0.02171888, 0.0848412 , 0.28566771, 0.3322842 ,\n",
       "       0.09944905, 0.38798485, 0.21831264, 0.41759064, 0.32987823,\n",
       "       0.39600205, 0.33182327, 0.01948741, 0.06776505, 0.00694646,\n",
       "       0.02397103, 0.00456336, 0.10734216, 0.83748663, 0.24110054,\n",
       "       0.11677076, 0.49425461, 0.04558598, 0.02830881, 0.27327324,\n",
       "       0.37246646, 0.28387826, 0.02878178, 0.11140442, 0.1351064 ,\n",
       "       0.29066692, 0.08808715, 0.03520118, 0.17682971, 0.03498521,\n",
       "       0.27215729, 0.11867383, 0.37246646, 0.22427069, 0.38288217,\n",
       "       0.19471297, 0.40519079, 0.11140442, 0.22311471, 0.27814001,\n",
       "       0.0868914 , 0.02806814, 0.0397944 , 0.15854038, 0.32846982,\n",
       "       0.13294544, 0.10525877, 0.28556259, 0.11140442, 0.50382147,\n",
       "       0.04051921, 0.39600205, 0.03498521, 0.42217113, 0.39600205,\n",
       "       0.23854403, 0.73440869, 0.56614826, 0.10750413, 0.65821191,\n",
       "       0.12396199, 0.14513778, 0.10192889, 0.20351137, 0.39600205,\n",
       "       0.09643026, 0.17776003, 0.11140442, 0.188754  , 0.3322842 ,\n",
       "       0.43831395, 0.01963794, 0.21407684, 0.45826884, 0.11140442,\n",
       "       0.13007981, 0.03498521, 0.46879518, 0.04558598, 0.48472784,\n",
       "       0.24203698, 0.34028804, 0.15937386, 0.12694261, 0.23313794,\n",
       "       0.45458842, 0.45194223, 0.15937386, 0.36993074, 0.3322842 ,\n",
       "       0.20994039, 0.13007981, 0.25754417, 0.0054498 , 0.22341798,\n",
       "       0.3322842 , 0.14448917, 0.04558598, 0.14538428, 0.3322842 ,\n",
       "       0.04170167, 0.39600205, 0.07852502, 0.3456104 , 0.11960209,\n",
       "       0.34218897, 0.0246251 , 0.0868914 , 0.13620785, 0.27454173,\n",
       "       0.21798987, 0.37339499, 0.21563014, 0.07246499, 0.17211504,\n",
       "       0.39600205, 0.10413043, 0.05558426, 0.26657941, 0.29745525,\n",
       "       0.23222538, 0.04638427, 0.03994996, 0.05391386, 0.32987823,\n",
       "       0.04558598, 0.1170193 , 0.42217113, 0.42217113, 0.06653422,\n",
       "       0.11140442, 0.47418624, 0.08553311, 0.0868914 , 0.3322842 ,\n",
       "       0.190103  , 0.19173022])"
      ]
     },
     "execution_count": 48,
     "metadata": {},
     "output_type": "execute_result"
    }
   ],
   "source": [
    "prob"
   ]
  },
  {
   "cell_type": "code",
   "execution_count": 50,
   "metadata": {},
   "outputs": [
    {
     "name": "stderr",
     "output_type": "stream",
     "text": [
      "/Users/1003849/anaconda/lib/python3.6/site-packages/ipykernel_launcher.py:1: SettingWithCopyWarning: \n",
      "A value is trying to be set on a copy of a slice from a DataFrame.\n",
      "Try using .loc[row_indexer,col_indexer] = value instead\n",
      "\n",
      "See the caveats in the documentation: http://pandas.pydata.org/pandas-docs/stable/indexing.html#indexing-view-versus-copy\n",
      "  \"\"\"Entry point for launching an IPython kernel.\n"
     ]
    }
   ],
   "source": [
    "x_test['real'] = y_test"
   ]
  },
  {
   "cell_type": "code",
   "execution_count": 51,
   "metadata": {},
   "outputs": [
    {
     "data": {
      "text/html": [
       "<div>\n",
       "<style>\n",
       "    .dataframe thead tr:only-child th {\n",
       "        text-align: right;\n",
       "    }\n",
       "\n",
       "    .dataframe thead th {\n",
       "        text-align: left;\n",
       "    }\n",
       "\n",
       "    .dataframe tbody tr th {\n",
       "        vertical-align: top;\n",
       "    }\n",
       "</style>\n",
       "<table border=\"1\" class=\"dataframe\">\n",
       "  <thead>\n",
       "    <tr style=\"text-align: right;\">\n",
       "      <th></th>\n",
       "      <th>Recency (months)</th>\n",
       "      <th>Frequency (times)</th>\n",
       "      <th>Monetary (c.c. blood)</th>\n",
       "      <th>Time (months)</th>\n",
       "      <th>prob</th>\n",
       "      <th>real</th>\n",
       "    </tr>\n",
       "  </thead>\n",
       "  <tbody>\n",
       "    <tr>\n",
       "      <th>381</th>\n",
       "      <td>14</td>\n",
       "      <td>1</td>\n",
       "      <td>250</td>\n",
       "      <td>14</td>\n",
       "      <td>0.111404</td>\n",
       "      <td>0</td>\n",
       "    </tr>\n",
       "    <tr>\n",
       "      <th>535</th>\n",
       "      <td>4</td>\n",
       "      <td>5</td>\n",
       "      <td>1250</td>\n",
       "      <td>16</td>\n",
       "      <td>0.401166</td>\n",
       "      <td>1</td>\n",
       "    </tr>\n",
       "    <tr>\n",
       "      <th>634</th>\n",
       "      <td>13</td>\n",
       "      <td>3</td>\n",
       "      <td>750</td>\n",
       "      <td>16</td>\n",
       "      <td>0.156029</td>\n",
       "      <td>0</td>\n",
       "    </tr>\n",
       "    <tr>\n",
       "      <th>149</th>\n",
       "      <td>2</td>\n",
       "      <td>2</td>\n",
       "      <td>500</td>\n",
       "      <td>11</td>\n",
       "      <td>0.365482</td>\n",
       "      <td>0</td>\n",
       "    </tr>\n",
       "    <tr>\n",
       "      <th>594</th>\n",
       "      <td>5</td>\n",
       "      <td>11</td>\n",
       "      <td>2750</td>\n",
       "      <td>75</td>\n",
       "      <td>0.189798</td>\n",
       "      <td>0</td>\n",
       "    </tr>\n",
       "  </tbody>\n",
       "</table>\n",
       "</div>"
      ],
      "text/plain": [
       "     Recency (months)  Frequency (times)  Monetary (c.c. blood)  \\\n",
       "381                14                  1                    250   \n",
       "535                 4                  5                   1250   \n",
       "634                13                  3                    750   \n",
       "149                 2                  2                    500   \n",
       "594                 5                 11                   2750   \n",
       "\n",
       "     Time (months)      prob  real  \n",
       "381             14  0.111404     0  \n",
       "535             16  0.401166     1  \n",
       "634             16  0.156029     0  \n",
       "149             11  0.365482     0  \n",
       "594             75  0.189798     0  "
      ]
     },
     "execution_count": 51,
     "metadata": {},
     "output_type": "execute_result"
    }
   ],
   "source": [
    "x_test.head()"
   ]
  },
  {
   "cell_type": "code",
   "execution_count": 29,
   "metadata": {},
   "outputs": [],
   "source": [
    "tf = m[:,1] > 0.1"
   ]
  },
  {
   "cell_type": "code",
   "execution_count": 31,
   "metadata": {},
   "outputs": [],
   "source": [
    "y_pred = tf.astype(int)"
   ]
  },
  {
   "cell_type": "code",
   "execution_count": 33,
   "metadata": {},
   "outputs": [
    {
     "data": {
      "text/plain": [
       "0.2589928057553957"
      ]
     },
     "execution_count": 33,
     "metadata": {},
     "output_type": "execute_result"
    }
   ],
   "source": [
    "precision_score(y_test, y_pred)"
   ]
  },
  {
   "cell_type": "code",
   "execution_count": 52,
   "metadata": {},
   "outputs": [
    {
     "name": "stderr",
     "output_type": "stream",
     "text": [
      "/Users/1003849/anaconda/lib/python3.6/site-packages/ipykernel_launcher.py:1: SettingWithCopyWarning: \n",
      "A value is trying to be set on a copy of a slice from a DataFrame.\n",
      "Try using .loc[row_indexer,col_indexer] = value instead\n",
      "\n",
      "See the caveats in the documentation: http://pandas.pydata.org/pandas-docs/stable/indexing.html#indexing-view-versus-copy\n",
      "  \"\"\"Entry point for launching an IPython kernel.\n"
     ]
    }
   ],
   "source": [
    "x_test['predic'] = y_pred"
   ]
  },
  {
   "cell_type": "code",
   "execution_count": 54,
   "metadata": {},
   "outputs": [
    {
     "data": {
      "text/html": [
       "<div>\n",
       "<style>\n",
       "    .dataframe thead tr:only-child th {\n",
       "        text-align: right;\n",
       "    }\n",
       "\n",
       "    .dataframe thead th {\n",
       "        text-align: left;\n",
       "    }\n",
       "\n",
       "    .dataframe tbody tr th {\n",
       "        vertical-align: top;\n",
       "    }\n",
       "</style>\n",
       "<table border=\"1\" class=\"dataframe\">\n",
       "  <thead>\n",
       "    <tr style=\"text-align: right;\">\n",
       "      <th></th>\n",
       "      <th>Recency (months)</th>\n",
       "      <th>Frequency (times)</th>\n",
       "      <th>Monetary (c.c. blood)</th>\n",
       "      <th>Time (months)</th>\n",
       "      <th>prob</th>\n",
       "      <th>real</th>\n",
       "      <th>predic</th>\n",
       "    </tr>\n",
       "  </thead>\n",
       "  <tbody>\n",
       "    <tr>\n",
       "      <th>381</th>\n",
       "      <td>14</td>\n",
       "      <td>1</td>\n",
       "      <td>250</td>\n",
       "      <td>14</td>\n",
       "      <td>0.111404</td>\n",
       "      <td>0</td>\n",
       "      <td>1</td>\n",
       "    </tr>\n",
       "    <tr>\n",
       "      <th>535</th>\n",
       "      <td>4</td>\n",
       "      <td>5</td>\n",
       "      <td>1250</td>\n",
       "      <td>16</td>\n",
       "      <td>0.401166</td>\n",
       "      <td>1</td>\n",
       "      <td>1</td>\n",
       "    </tr>\n",
       "    <tr>\n",
       "      <th>634</th>\n",
       "      <td>13</td>\n",
       "      <td>3</td>\n",
       "      <td>750</td>\n",
       "      <td>16</td>\n",
       "      <td>0.156029</td>\n",
       "      <td>0</td>\n",
       "      <td>1</td>\n",
       "    </tr>\n",
       "    <tr>\n",
       "      <th>149</th>\n",
       "      <td>2</td>\n",
       "      <td>2</td>\n",
       "      <td>500</td>\n",
       "      <td>11</td>\n",
       "      <td>0.365482</td>\n",
       "      <td>0</td>\n",
       "      <td>1</td>\n",
       "    </tr>\n",
       "    <tr>\n",
       "      <th>594</th>\n",
       "      <td>5</td>\n",
       "      <td>11</td>\n",
       "      <td>2750</td>\n",
       "      <td>75</td>\n",
       "      <td>0.189798</td>\n",
       "      <td>0</td>\n",
       "      <td>1</td>\n",
       "    </tr>\n",
       "    <tr>\n",
       "      <th>659</th>\n",
       "      <td>14</td>\n",
       "      <td>7</td>\n",
       "      <td>1750</td>\n",
       "      <td>45</td>\n",
       "      <td>0.111831</td>\n",
       "      <td>0</td>\n",
       "      <td>1</td>\n",
       "    </tr>\n",
       "    <tr>\n",
       "      <th>695</th>\n",
       "      <td>17</td>\n",
       "      <td>7</td>\n",
       "      <td>1750</td>\n",
       "      <td>58</td>\n",
       "      <td>0.055965</td>\n",
       "      <td>1</td>\n",
       "      <td>0</td>\n",
       "    </tr>\n",
       "    <tr>\n",
       "      <th>309</th>\n",
       "      <td>16</td>\n",
       "      <td>3</td>\n",
       "      <td>750</td>\n",
       "      <td>19</td>\n",
       "      <td>0.108936</td>\n",
       "      <td>0</td>\n",
       "      <td>1</td>\n",
       "    </tr>\n",
       "    <tr>\n",
       "      <th>570</th>\n",
       "      <td>2</td>\n",
       "      <td>6</td>\n",
       "      <td>1500</td>\n",
       "      <td>47</td>\n",
       "      <td>0.255472</td>\n",
       "      <td>0</td>\n",
       "      <td>1</td>\n",
       "    </tr>\n",
       "    <tr>\n",
       "      <th>298</th>\n",
       "      <td>14</td>\n",
       "      <td>2</td>\n",
       "      <td>500</td>\n",
       "      <td>14</td>\n",
       "      <td>0.130080</td>\n",
       "      <td>0</td>\n",
       "      <td>1</td>\n",
       "    </tr>\n",
       "  </tbody>\n",
       "</table>\n",
       "</div>"
      ],
      "text/plain": [
       "     Recency (months)  Frequency (times)  Monetary (c.c. blood)  \\\n",
       "381                14                  1                    250   \n",
       "535                 4                  5                   1250   \n",
       "634                13                  3                    750   \n",
       "149                 2                  2                    500   \n",
       "594                 5                 11                   2750   \n",
       "659                14                  7                   1750   \n",
       "695                17                  7                   1750   \n",
       "309                16                  3                    750   \n",
       "570                 2                  6                   1500   \n",
       "298                14                  2                    500   \n",
       "\n",
       "     Time (months)      prob  real  predic  \n",
       "381             14  0.111404     0       1  \n",
       "535             16  0.401166     1       1  \n",
       "634             16  0.156029     0       1  \n",
       "149             11  0.365482     0       1  \n",
       "594             75  0.189798     0       1  \n",
       "659             45  0.111831     0       1  \n",
       "695             58  0.055965     1       0  \n",
       "309             19  0.108936     0       1  \n",
       "570             47  0.255472     0       1  \n",
       "298             14  0.130080     0       1  "
      ]
     },
     "execution_count": 54,
     "metadata": {},
     "output_type": "execute_result"
    }
   ],
   "source": [
    "x_test.head(10)"
   ]
  },
  {
   "cell_type": "code",
   "execution_count": null,
   "metadata": {
    "collapsed": true
   },
   "outputs": [],
   "source": []
  }
 ],
 "metadata": {
  "kernelspec": {
   "display_name": "Python 3",
   "language": "python",
   "name": "python3"
  },
  "language_info": {
   "codemirror_mode": {
    "name": "ipython",
    "version": 3
   },
   "file_extension": ".py",
   "mimetype": "text/x-python",
   "name": "python",
   "nbconvert_exporter": "python",
   "pygments_lexer": "ipython3",
   "version": "3.6.1"
  }
 },
 "nbformat": 4,
 "nbformat_minor": 2
}
