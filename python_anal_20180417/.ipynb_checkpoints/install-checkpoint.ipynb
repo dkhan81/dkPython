{
 "cells": [
  {
   "cell_type": "code",
   "execution_count": 1,
   "metadata": {},
   "outputs": [
    {
     "name": "stdout",
     "output_type": "stream",
     "text": [
      "Requirement already satisfied: numpy in /Users/1003849/anaconda/lib/python3.6/site-packages\n",
      "Requirement already satisfied: scipy in /Users/1003849/anaconda/lib/python3.6/site-packages\n",
      "Requirement already satisfied: matplotlib in /Users/1003849/anaconda/lib/python3.6/site-packages\n",
      "Requirement already satisfied: pandas in /Users/1003849/anaconda/lib/python3.6/site-packages\n",
      "Requirement already satisfied: six>=1.10 in /Users/1003849/anaconda/lib/python3.6/site-packages (from matplotlib)\n",
      "Requirement already satisfied: python-dateutil in /Users/1003849/anaconda/lib/python3.6/site-packages (from matplotlib)\n",
      "Requirement already satisfied: pytz in /Users/1003849/anaconda/lib/python3.6/site-packages (from matplotlib)\n",
      "Requirement already satisfied: cycler>=0.10 in /Users/1003849/anaconda/lib/python3.6/site-packages (from matplotlib)\n",
      "Requirement already satisfied: pyparsing!=2.0.4,!=2.1.2,!=2.1.6,>=1.5.6 in /Users/1003849/anaconda/lib/python3.6/site-packages (from matplotlib)\n",
      "\u001b[33mYou are using pip version 9.0.3, however version 10.0.0 is available.\n",
      "You should consider upgrading via the 'pip install --upgrade pip' command.\u001b[0m\n"
     ]
    }
   ],
   "source": [
    "!pip install numpy scipy matplotlib pandas"
   ]
  },
  {
   "cell_type": "code",
   "execution_count": 2,
   "metadata": {},
   "outputs": [
    {
     "name": "stdout",
     "output_type": "stream",
     "text": [
      "install.ipynb\r\n"
     ]
    }
   ],
   "source": [
    "!ls"
   ]
  },
  {
   "cell_type": "code",
   "execution_count": 3,
   "metadata": {},
   "outputs": [
    {
     "name": "stdout",
     "output_type": "stream",
     "text": [
      "Requirement already satisfied: numpy in /Users/1003849/anaconda/lib/python3.6/site-packages\n",
      "Requirement already satisfied: scipy in /Users/1003849/anaconda/lib/python3.6/site-packages\n",
      "Requirement already satisfied: matplotlib in /Users/1003849/anaconda/lib/python3.6/site-packages\n",
      "Requirement already satisfied: ipython in /Users/1003849/anaconda/lib/python3.6/site-packages\n",
      "Requirement already satisfied: jupyter in /Users/1003849/anaconda/lib/python3.6/site-packages\n",
      "Requirement already satisfied: pandas in /Users/1003849/anaconda/lib/python3.6/site-packages\n",
      "Requirement already satisfied: six>=1.10 in /Users/1003849/anaconda/lib/python3.6/site-packages (from matplotlib)\n",
      "Requirement already satisfied: python-dateutil in /Users/1003849/anaconda/lib/python3.6/site-packages (from matplotlib)\n",
      "Requirement already satisfied: pytz in /Users/1003849/anaconda/lib/python3.6/site-packages (from matplotlib)\n",
      "Requirement already satisfied: cycler>=0.10 in /Users/1003849/anaconda/lib/python3.6/site-packages (from matplotlib)\n",
      "Requirement already satisfied: pyparsing!=2.0.4,!=2.1.2,!=2.1.6,>=1.5.6 in /Users/1003849/anaconda/lib/python3.6/site-packages (from matplotlib)\n",
      "\u001b[33mYou are using pip version 9.0.3, however version 10.0.0 is available.\n",
      "You should consider upgrading via the 'pip install --upgrade pip' command.\u001b[0m\n"
     ]
    }
   ],
   "source": [
    "!pip install numpy scipy matplotlib ipython jupyter pandas"
   ]
  },
  {
   "cell_type": "code",
   "execution_count": null,
   "metadata": {
    "collapsed": true
   },
   "outputs": [],
   "source": []
  }
 ],
 "metadata": {
  "kernelspec": {
   "display_name": "Python 3",
   "language": "python",
   "name": "python3"
  },
  "language_info": {
   "codemirror_mode": {
    "name": "ipython",
    "version": 3
   },
   "file_extension": ".py",
   "mimetype": "text/x-python",
   "name": "python",
   "nbconvert_exporter": "python",
   "pygments_lexer": "ipython3",
   "version": "3.6.1"
  }
 },
 "nbformat": 4,
 "nbformat_minor": 2
}
